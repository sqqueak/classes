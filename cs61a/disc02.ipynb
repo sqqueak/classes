{
 "cells": [
  {
   "cell_type": "code",
   "execution_count": 1,
   "metadata": {},
   "outputs": [],
   "source": [
    "import doctest"
   ]
  },
  {
   "cell_type": "code",
   "execution_count": 2,
   "metadata": {},
   "outputs": [
    {
     "data": {
      "text/plain": [
       "TestResults(failed=0, attempted=2)"
      ]
     },
     "execution_count": 2,
     "metadata": {},
     "output_type": "execute_result"
    }
   ],
   "source": [
    "# Q1: Make Keeper\n",
    "def make_keeper(n):\n",
    "    \"\"\"Returns a function which takes one parameter cond and prints\n",
    "    out all integers 1..i..n where calling cond(i) returns True.\n",
    "\n",
    "    >>> def is_even(x):\n",
    "    ...     # Even numbers have remainder 0 when divided by 2.\n",
    "    ...     return x % 2 == 0\n",
    "    >>> make_keeper(5)(is_even)\n",
    "    2\n",
    "    4\n",
    "    \"\"\"\n",
    "    def checking_cond(func):\n",
    "        for i in range(1,n):\n",
    "            if func(i):\n",
    "                print(i)\n",
    "\n",
    "    return checking_cond\n",
    "\n",
    "doctest.testmod()"
   ]
  },
  {
   "cell_type": "code",
   "execution_count": 3,
   "metadata": {},
   "outputs": [
    {
     "name": "stdout",
     "output_type": "stream",
     "text": [
      "5\n",
      "5\n"
     ]
    }
   ],
   "source": [
    "# Q3: Curry2 Lambda\n",
    "\n",
    "def curry2(h):\n",
    "    def f(x):\n",
    "        def g(y):\n",
    "            return h(x, y)\n",
    "        return g\n",
    "    return f\n",
    "make_adder = curry2(lambda x, y: x + y)\n",
    "add_three = make_adder(3)\n",
    "add_four = make_adder(4)\n",
    "five = add_three(2)\n",
    "print(five)\n",
    "\n",
    "curry2 = lambda h: lambda x: lambda y: h(x,y)\n",
    "make_adder = curry2(lambda x, y: x + y)\n",
    "add_three = make_adder(3)\n",
    "add_four = make_adder(4)\n",
    "five = add_three(2)\n",
    "print(five)"
   ]
  },
  {
   "cell_type": "code",
   "execution_count": 4,
   "metadata": {},
   "outputs": [
    {
     "data": {
      "text/plain": [
       "TestResults(failed=0, attempted=6)"
      ]
     },
     "execution_count": 4,
     "metadata": {},
     "output_type": "execute_result"
    }
   ],
   "source": [
    "# Q4: Make Keeper Redux\n",
    "def make_keeper_redux(n):\n",
    "    \"\"\"Returns a function. This function takes one parameter <cond>\n",
    "    and prints out all integers 1..i..n where calling cond(i)\n",
    "    returns True. The returned function returns another function\n",
    "    with the exact same behavior.\n",
    "\n",
    "    >>> def multiple_of_4(x):\n",
    "    ...     return x % 4 == 0\n",
    "    >>> def ends_with_1(x):\n",
    "    ...     return x % 10 == 1\n",
    "    >>> k = make_keeper_redux(11)(multiple_of_4)\n",
    "    4\n",
    "    8\n",
    "    >>> k = k(ends_with_1)\n",
    "    1\n",
    "    11\n",
    "    \"\"\"\n",
    "    def checking_cond(func):\n",
    "        for i in range(1,n+1):\n",
    "            if func(i):\n",
    "                print(i)\n",
    "        \n",
    "        return checking_cond\n",
    "    return checking_cond\n",
    "\n",
    "doctest.testmod()\n",
    "\n",
    "# Last test doesn't pass because the function object names are different...\n",
    "# >>> k\n",
    "# <function do_keep>"
   ]
  },
  {
   "cell_type": "code",
   "execution_count": 13,
   "metadata": {},
   "outputs": [
    {
     "data": {
      "text/plain": [
       "TestResults(failed=0, attempted=11)"
      ]
     },
     "execution_count": 13,
     "metadata": {},
     "output_type": "execute_result"
    }
   ],
   "source": [
    "# Q5: Print N\n",
    "def print_n(n):\n",
    "    \"\"\"\n",
    "    >>> f = print_n(2)\n",
    "    >>> f = f(\"hi\")\n",
    "    hi\n",
    "    >>> f = f(\"hello\")\n",
    "    hello\n",
    "    >>> f = f(\"bye\")\n",
    "    done\n",
    "    >>> g = print_n(1)\n",
    "    \"\"\"\n",
    "    def inner_print(x):\n",
    "        if n <= 0:\n",
    "            print(\"done\")\n",
    "        else:\n",
    "            print(x)\n",
    "        return print_n(n-1)\n",
    "    return inner_print\n",
    "\n",
    "doctest.testmod()\n",
    "\n",
    "# Prints first // done // done // <wrong fnc object name>\n",
    "# >>> g(\"first\")(\"second\")(\"third\")\n",
    "# first\n",
    "# done\n",
    "# done\n",
    "# <function inner_print>"
   ]
  },
  {
   "cell_type": "code",
   "execution_count": 22,
   "metadata": {},
   "outputs": [
    {
     "data": {
      "text/plain": [
       "TestResults(failed=0, attempted=18)"
      ]
     },
     "execution_count": 22,
     "metadata": {},
     "output_type": "execute_result"
    }
   ],
   "source": [
    "# Q8: Match Maker\n",
    "def match_k(k):\n",
    "    \"\"\" Return a function that checks if digits k apart match\n",
    "\n",
    "    >>> match_k(2)(1010)\n",
    "    True\n",
    "    >>> match_k(2)(2010)\n",
    "    False\n",
    "    >>> match_k(1)(1010)\n",
    "    False\n",
    "    >>> match_k(1)(1)\n",
    "    True\n",
    "    >>> match_k(1)(2111111111111111)\n",
    "    False\n",
    "    >>> match_k(3)(123123)\n",
    "    True\n",
    "    >>> match_k(2)(123123)\n",
    "    False\n",
    "    \"\"\"\n",
    "    def match_check(digits):\n",
    "        while digits > 10**k:\n",
    "            if (digits%10) != (digits//(10**k)%10):\n",
    "                return False\n",
    "            digits = digits // 10\n",
    "        return True\n",
    "    return match_check\n",
    "\n",
    "doctest.testmod()"
   ]
  },
  {
   "cell_type": "code",
   "execution_count": 23,
   "metadata": {},
   "outputs": [
    {
     "data": {
      "text/plain": [
       "TestResults(failed=0, attempted=26)"
      ]
     },
     "execution_count": 23,
     "metadata": {},
     "output_type": "execute_result"
    }
   ],
   "source": [
    "# Q9: Three Memory\n",
    "def three_memory(n):\n",
    "    \"\"\"\n",
    "    >>> f = three_memory('first')\n",
    "    >>> f = f('first')\n",
    "    Not found\n",
    "    >>> f = f('second')\n",
    "    Not found\n",
    "    >>> f = f('third')\n",
    "    Not found\n",
    "    >>> f = f('second') # 'second' was not input three calls ago\n",
    "    Not found\n",
    "    >>> f = f('second') # 'second' was input three calls ago\n",
    "    Found\n",
    "    >>> f = f('third') # 'third' was input three calls ago\n",
    "    Found\n",
    "    >>> f = f('third') # 'third' was not input three calls ago\n",
    "    Not found\n",
    "    \"\"\"\n",
    "    def f(x, y, z):\n",
    "        def g(i):\n",
    "            if i == x:\n",
    "                print(\"Found\")\n",
    "            else:\n",
    "                print(\"Not found\")\n",
    "            return f(y, z, i)\n",
    "        return g\n",
    "    return f(None, None, n)\n",
    "\n",
    "doctest.testmod()"
   ]
  },
  {
   "cell_type": "code",
   "execution_count": 102,
   "metadata": {},
   "outputs": [
    {
     "data": {
      "text/plain": [
       "TestResults(failed=0, attempted=35)"
      ]
     },
     "execution_count": 102,
     "metadata": {},
     "output_type": "execute_result"
    }
   ],
   "source": [
    "# Q10: Natural Chain\n",
    "def chain_function():\n",
    "    \"\"\"\n",
    "    >>> tester = chain_function()\n",
    "    >>> x = tester(1)(2)(4)(5) # Expected 3 but got 4, so print 3. 1st chain break, so print 1 too.\n",
    "    3 1\n",
    "    >>> x = x(2) # 6 should've followed 5 from above, so print 6. 2nd chain break, so print 2\n",
    "    6 2\n",
    "    >>> x = x(8) # The chain restarted at 2 from the previous line, but we got 8. 3rd chain break.\n",
    "    3 3\n",
    "    >>> x = x(3)(4)(5) # Chain restarted at 8 in the previous line, but we got 3 instead. 4th break\n",
    "    9 4\n",
    "    >>> x = x(9) # Similar logic to the above line\n",
    "    6 5\n",
    "    >>> x = x(10) # Nothing is printed because 10 follows 9.\n",
    "    >>> y = tester(4)(5)(8) # New chain, starting at 4, break at 6, first chain break\n",
    "    6 1\n",
    "    >>> y = y(2)(3)(10) # Chain expected 9 next, and 4 after 10. Break 2 and 3.\n",
    "    9 2\n",
    "    4 3\n",
    "    \"\"\"\n",
    "    def g(x):\n",
    "\n",
    "        count = 0\n",
    "        #print(\"start\", x)\n",
    "\n",
    "        def f(n):\n",
    "            nonlocal x, count\n",
    "            x += 1\n",
    "            if x != n+1:\n",
    "                count += 1\n",
    "                print(x-1, count)\n",
    "                x = n+1\n",
    "            # print(\"iter:\", n, x)\n",
    "            return f\n",
    "\n",
    "        return f(x)\n",
    "    return g\n",
    "\n",
    "# t = chain_function()\n",
    "# x = t(1)(2)(4)(5)\n",
    "# x = x(2)\n",
    "# x = x(8)\n",
    "\n",
    "doctest.testmod()\n"
   ]
  }
 ],
 "metadata": {
  "kernelspec": {
   "display_name": "Python 3.10.4 64-bit",
   "language": "python",
   "name": "python3"
  },
  "language_info": {
   "codemirror_mode": {
    "name": "ipython",
    "version": 3
   },
   "file_extension": ".py",
   "mimetype": "text/x-python",
   "name": "python",
   "nbconvert_exporter": "python",
   "pygments_lexer": "ipython3",
   "version": "3.10.4"
  },
  "orig_nbformat": 4,
  "vscode": {
   "interpreter": {
    "hash": "aee8b7b246df8f9039afb4144a1f6fd8d2ca17a180786b69acc140d282b71a49"
   }
  }
 },
 "nbformat": 4,
 "nbformat_minor": 2
}

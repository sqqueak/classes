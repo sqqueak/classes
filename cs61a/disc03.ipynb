{
 "cells": [
  {
   "cell_type": "code",
   "execution_count": 2,
   "metadata": {},
   "outputs": [],
   "source": [
    "import doctest"
   ]
  },
  {
   "cell_type": "code",
   "execution_count": 3,
   "metadata": {},
   "outputs": [
    {
     "data": {
      "text/plain": [
       "TestResults(failed=0, attempted=1)"
      ]
     },
     "execution_count": 3,
     "metadata": {},
     "output_type": "execute_result"
    }
   ],
   "source": [
    "# Q1: Warm Up: Recursive Multiplication\n",
    "def multiply(m, n):\n",
    "    \"\"\" Takes two positive integers and returns their product using recursion.\n",
    "    >>> multiply(5, 3)\n",
    "    15\n",
    "    \"\"\"\n",
    "    if n == 1:\n",
    "        return m\n",
    "    else:\n",
    "        return m + multiply(m, n-1)\n",
    "\n",
    "doctest.testmod()"
   ]
  },
  {
   "cell_type": "code",
   "execution_count": 6,
   "metadata": {},
   "outputs": [
    {
     "data": {
      "text/plain": [
       "TestResults(failed=0, attempted=3)"
      ]
     },
     "execution_count": 6,
     "metadata": {},
     "output_type": "execute_result"
    }
   ],
   "source": [
    "# Q3: Find the Bug\n",
    "def skip_mul(n):\n",
    "    \"\"\"Return the product of n * (n - 2) * (n - 4) * ...\n",
    "\n",
    "    >>> skip_mul(5) # 5 * 3 * 1\n",
    "    15\n",
    "    >>> skip_mul(8) # 8 * 6 * 4 * 2\n",
    "    384\n",
    "    \"\"\"\n",
    "    if n == 2 or n == 1:\n",
    "        return n\n",
    "    else:\n",
    "        return n * skip_mul(n - 2)\n",
    "\n",
    "doctest.testmod()"
   ]
  },
  {
   "cell_type": "code",
   "execution_count": 8,
   "metadata": {},
   "outputs": [
    {
     "data": {
      "text/plain": [
       "TestResults(failed=0, attempted=6)"
      ]
     },
     "execution_count": 8,
     "metadata": {},
     "output_type": "execute_result"
    }
   ],
   "source": [
    "# Q4: Is Prime\n",
    "def is_prime(n):\n",
    "    \"\"\"Returns True if n is a prime number and False otherwise.\n",
    "\n",
    "    >>> is_prime(2)\n",
    "    True\n",
    "    >>> is_prime(16)\n",
    "    False\n",
    "    >>> is_prime(521)\n",
    "    True\n",
    "    \"\"\"\n",
    "    def helper(n, j):\n",
    "        if j == 1:\n",
    "            return True\n",
    "        else:\n",
    "            return n % j != 0 and helper(n, j-1)\n",
    "    return helper(n, n-1)\n",
    "\n",
    "doctest.testmod()\n",
    "\n",
    "# Need to review"
   ]
  },
  {
   "cell_type": "code",
   "execution_count": 15,
   "metadata": {},
   "outputs": [
    {
     "data": {
      "text/plain": [
       "TestResults(failed=0, attempted=8)"
      ]
     },
     "execution_count": 15,
     "metadata": {},
     "output_type": "execute_result"
    }
   ],
   "source": [
    "# Q5: Recursive Hailstone\n",
    "def hailstone(n):\n",
    "    \"\"\"Print out the hailstone sequence starting at n, and return the number of elements in the sequence.\n",
    "    >>> a = hailstone(10)\n",
    "    10\n",
    "    5\n",
    "    16\n",
    "    8\n",
    "    4\n",
    "    2\n",
    "    1\n",
    "    >>> a\n",
    "    7\n",
    "    \"\"\"\n",
    "    if n == 1:\n",
    "        print(1)\n",
    "        return 1\n",
    "    else:\n",
    "        print(int(n))\n",
    "        if n % 2 == 0:\n",
    "            n //= 2\n",
    "            s = hailstone(n)\n",
    "        else:\n",
    "            n = n*3 + 1\n",
    "            s = hailstone(n)\n",
    "        return 1 + s\n",
    "\n",
    "doctest.testmod()"
   ]
  },
  {
   "cell_type": "code",
   "execution_count": 23,
   "metadata": {},
   "outputs": [
    {
     "data": {
      "text/plain": [
       "TestResults(failed=0, attempted=11)"
      ]
     },
     "execution_count": 23,
     "metadata": {},
     "output_type": "execute_result"
    }
   ],
   "source": [
    "# Q6: Merge Numbers\n",
    "def merge(n1, n2):\n",
    "    \"\"\" Merges two numbers by digit in decreasing order\n",
    "    >>> merge(31, 42)\n",
    "    4321\n",
    "    >>> merge(21, 0)\n",
    "    21\n",
    "    >>> merge (21, 31) \n",
    "    3211\n",
    "    \"\"\"\n",
    "    fin = 0\n",
    "    #print(n1, n2)\n",
    "    if n1 == 0:\n",
    "        return n2\n",
    "    elif n2 == 0:\n",
    "        return n1\n",
    "    else:\n",
    "        n1_last = n1 % 10\n",
    "        n2_last = n2 % 10\n",
    "        \n",
    "        if n1_last > n2_last:\n",
    "            fin = n2_last\n",
    "            return merge(n1, n2 // 10)*(10**len(str(fin))) + fin\n",
    "        else:\n",
    "            fin = n1_last\n",
    "            return merge(n1 // 10, n2)*(10**len(str(fin))) + fin\n",
    "\n",
    "doctest.testmod()"
   ]
  }
 ],
 "metadata": {
  "kernelspec": {
   "display_name": "Python 3.10.4 64-bit",
   "language": "python",
   "name": "python3"
  },
  "language_info": {
   "codemirror_mode": {
    "name": "ipython",
    "version": 3
   },
   "file_extension": ".py",
   "mimetype": "text/x-python",
   "name": "python",
   "nbconvert_exporter": "python",
   "pygments_lexer": "ipython3",
   "version": "3.10.4"
  },
  "orig_nbformat": 4,
  "vscode": {
   "interpreter": {
    "hash": "aee8b7b246df8f9039afb4144a1f6fd8d2ca17a180786b69acc140d282b71a49"
   }
  }
 },
 "nbformat": 4,
 "nbformat_minor": 2
}

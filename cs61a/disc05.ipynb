{
 "cells": [
  {
   "cell_type": "code",
   "execution_count": 1,
   "metadata": {},
   "outputs": [],
   "source": [
    "import doctest"
   ]
  },
  {
   "cell_type": "code",
   "execution_count": 2,
   "metadata": {},
   "outputs": [],
   "source": [
    "# Tree ADT\n",
    "\n",
    "def tree(label, branches=[]):\n",
    "    \"\"\"Construct a tree with the given label value and a list of branches.\"\"\"\n",
    "    for branch in branches:\n",
    "        assert is_tree(branch), 'branches must be trees'\n",
    "    return [label] + list(branches)\n",
    "\n",
    "\n",
    "def label(tree):\n",
    "    \"\"\"Return the label value of a tree.\"\"\"\n",
    "    return tree[0]\n",
    "\n",
    "def branches(tree):\n",
    "    \"\"\"Return the list of branches of the given tree.\"\"\"\n",
    "    return tree[1:]\n",
    "\n",
    "\n",
    "def is_tree(tree):\n",
    "    \"\"\"Returns True if the given tree is a tree, and False otherwise.\"\"\"\n",
    "    if type(tree) != list or len(tree) < 1:\n",
    "        return False\n",
    "    for branch in branches(tree):\n",
    "        if not is_tree(branch):\n",
    "            return False\n",
    "    return True\n",
    "\n",
    "\n",
    "def is_leaf(tree):\n",
    "    \"\"\"Returns True if the given tree's list of branches is empty, and False\n",
    "    otherwise.\n",
    "    \"\"\"\n",
    "    return not branches(tree)\n",
    "\n",
    "\n",
    "def print_tree(t, indent=0):\n",
    "    \"\"\"Print a representation of this tree in which each node is\n",
    "    indented by two spaces times its depth from the root.\n",
    "\n",
    "    >>> print_tree(tree(1))\n",
    "    1\n",
    "    >>> print_tree(tree(1, [tree(2)]))\n",
    "    1\n",
    "      2\n",
    "    >>> numbers = tree(1, [tree(2), tree(3, [tree(4), tree(5)]), tree(6, [tree(7)])])\n",
    "    >>> print_tree(numbers)\n",
    "    1\n",
    "      2\n",
    "      3\n",
    "        4\n",
    "        5\n",
    "      6\n",
    "        7\n",
    "    \"\"\"\n",
    "    print('  ' * indent + str(label(t)))\n",
    "    for b in branches(t):\n",
    "        print_tree(b, indent + 1)"
   ]
  },
  {
   "cell_type": "code",
   "execution_count": 3,
   "metadata": {},
   "outputs": [
    {
     "data": {
      "text/plain": [
       "TestResults(failed=0, attempted=8)"
      ]
     },
     "execution_count": 3,
     "metadata": {},
     "output_type": "execute_result"
    }
   ],
   "source": [
    "# Q2: Height\n",
    "def height(t):\n",
    "    \"\"\"Return the height of a tree.\n",
    "\n",
    "    >>> t = tree(3, [tree(5, [tree(1)]), tree(2)])\n",
    "    >>> height(t)\n",
    "    2\n",
    "    >>> t = tree(3, [tree(1), tree(2, [tree(5, [tree(6)]), tree(1)])])\n",
    "    >>> height(t)\n",
    "    3\n",
    "    \"\"\"\n",
    "    if is_leaf(t):\n",
    "        return 0\n",
    "    else:\n",
    "        largest = 0\n",
    "        for branch in branches(t):\n",
    "            h = height(branch)\n",
    "            if h > largest:\n",
    "                largest = h\n",
    "        return 1 + largest # add +1 to the largest sub-height, accounting for current node\n",
    "\n",
    "doctest.testmod()"
   ]
  },
  {
   "cell_type": "code",
   "execution_count": 4,
   "metadata": {},
   "outputs": [
    {
     "data": {
      "text/plain": [
       "TestResults(failed=0, attempted=10)"
      ]
     },
     "execution_count": 4,
     "metadata": {},
     "output_type": "execute_result"
    }
   ],
   "source": [
    "# Q3: Maximum Path Sum\n",
    "def max_path_sum(t):\n",
    "    \"\"\"Return the maximum path sum of the tree.\n",
    "\n",
    "    >>> t = tree(1, [tree(5, [tree(1), tree(3)]), tree(10)])\n",
    "    >>> max_path_sum(t)\n",
    "    11\n",
    "    \"\"\"\n",
    "    if is_leaf(t):\n",
    "        return label(t)\n",
    "    else:\n",
    "        max = 0\n",
    "        for branch in branches(t):\n",
    "            sub_sum = max_path_sum(branch)\n",
    "            if sub_sum > max:\n",
    "                max = sub_sum\n",
    "        return label(t) + max\n",
    "    \n",
    "doctest.testmod()\n",
    "    "
   ]
  },
  {
   "cell_type": "code",
   "execution_count": 5,
   "metadata": {},
   "outputs": [
    {
     "data": {
      "text/plain": [
       "TestResults(failed=0, attempted=13)"
      ]
     },
     "execution_count": 5,
     "metadata": {},
     "output_type": "execute_result"
    }
   ],
   "source": [
    "# Q4: Find Path\n",
    "def find_path(t, x):\n",
    "    \"\"\"\n",
    "    >>> t = tree(2, [tree(7, [tree(3), tree(6, [tree(5), tree(11)])] ), tree(15)])\n",
    "    >>> find_path(t, 5)\n",
    "    [2, 7, 6, 5]\n",
    "    >>> find_path(t, 10)  # returns None\n",
    "    \"\"\"\n",
    "    if label(t) == x:\n",
    "        return [x]\n",
    "    else:\n",
    "        path = [label(t)]\n",
    "        for branch in branches(t):\n",
    "            if find_path(branch,x):\n",
    "                return path + find_path(branch,x)\n",
    "\n",
    "doctest.testmod()"
   ]
  },
  {
   "cell_type": "code",
   "execution_count": 6,
   "metadata": {},
   "outputs": [
    {
     "data": {
      "text/plain": [
       "TestResults(failed=0, attempted=19)"
      ]
     },
     "execution_count": 6,
     "metadata": {},
     "output_type": "execute_result"
    }
   ],
   "source": [
    "# Q5: Map, Filter, Reduce\n",
    "def my_map(fn, seq):\n",
    "    \"\"\"Applies fn onto each element in seq and returns a list.\n",
    "    >>> my_map(lambda x: x*x, [1, 2, 3])\n",
    "    [1, 4, 9]\n",
    "    \"\"\"\n",
    "    return [fn(x) for x in seq]\n",
    "\n",
    "def my_filter(pred, seq):\n",
    "    \"\"\"Keeps elements in seq only if they satisfy pred.\n",
    "    >>> my_filter(lambda x: x % 2 == 0, [1, 2, 3, 4])  # new list has only even-valued elements\n",
    "    [2, 4]\n",
    "    \"\"\"\n",
    "    return [x for x in seq if pred(x)]\n",
    "\n",
    "def my_reduce(combiner, seq):\n",
    "    \"\"\"Combines elements in seq using combiner.\n",
    "    seq will have at least one element.\n",
    "    >>> my_reduce(lambda x, y: x + y, [1, 2, 3, 4])  # 1 + 2 + 3 + 4\n",
    "    10\n",
    "    >>> my_reduce(lambda x, y: x * y, [1, 2, 3, 4])  # 1 * 2 * 3 * 4\n",
    "    24\n",
    "    >>> my_reduce(lambda x, y: x * y, [4])\n",
    "    4\n",
    "    >>> my_reduce(lambda x, y: x + 2 * y, [1, 2, 3]) # (1 + 2 * 2) + 2 * 3\n",
    "    11\n",
    "    \"\"\"\n",
    "    comb = seq.pop(0)\n",
    "    for i in range(len(seq)):\n",
    "        comb = combiner(comb, seq.pop(0))\n",
    "    return comb\n",
    "\n",
    "doctest.testmod()"
   ]
  },
  {
   "cell_type": "code",
   "execution_count": 7,
   "metadata": {},
   "outputs": [
    {
     "data": {
      "text/plain": [
       "TestResults(failed=0, attempted=20)"
      ]
     },
     "execution_count": 7,
     "metadata": {},
     "output_type": "execute_result"
    }
   ],
   "source": [
    "# Q6: Count Palindromes\n",
    "def count_palindromes(L):\n",
    "    \"\"\"The number of palindromic words in the sequence of strings\n",
    "    L (ignoring case).\n",
    "\n",
    "    >>> count_palindromes((\"Acme\", \"Madam\", \"Pivot\", \"Pip\"))\n",
    "    2\n",
    "    \"\"\"\n",
    "    return len([ word for word in L if list(word.lower()) == list(reversed(word.lower())) ])\n",
    "\n",
    "doctest.testmod()"
   ]
  },
  {
   "cell_type": "code",
   "execution_count": 8,
   "metadata": {},
   "outputs": [
    {
     "data": {
      "text/plain": [
       "TestResults(failed=0, attempted=28)"
      ]
     },
     "execution_count": 8,
     "metadata": {},
     "output_type": "execute_result"
    }
   ],
   "source": [
    "# Q7: Perfectly Balanced\n",
    "def sum_tree(t):\n",
    "    \"\"\"\n",
    "    Add all elements in a tree.\n",
    "    >>> t = tree(4, [tree(2, [tree(3)]), tree(6)])\n",
    "    >>> sum_tree(t)\n",
    "    15\n",
    "    \"\"\"\n",
    "    if is_leaf(t):\n",
    "        return label(t)\n",
    "    else:\n",
    "        sum = label(t)\n",
    "        for branch in branches(t):\n",
    "            sum += sum_tree(branch) \n",
    "        return sum\n",
    "\n",
    "def balanced(t):\n",
    "    \"\"\"\n",
    "    Checks if each branch has same sum of all elements and\n",
    "    if each branch is balanced.\n",
    "    >>> t = tree(1, [tree(3), tree(1, [tree(2)]), tree(1, [tree(1), tree(1)])])\n",
    "    >>> balanced(t)\n",
    "    True\n",
    "    >>> t = tree(1, [t, tree(1)])\n",
    "    >>> balanced(t)\n",
    "    False\n",
    "    >>> t = tree(1, [tree(4), tree(1, [tree(2), tree(1)]), tree(1, [tree(3)])])\n",
    "    >>> balanced(t)\n",
    "    False\n",
    "    \"\"\"\n",
    "    if is_leaf(t):\n",
    "        return True\n",
    "    else:\n",
    "        branch_sums = [sum_tree(b) for b in branches(t)]\n",
    "        if branch_sums.count(branch_sums[0]) != len(branch_sums):\n",
    "            return False\n",
    "        else:\n",
    "            for b in branches(t):\n",
    "                if not balanced(b):\n",
    "                    return False\n",
    "            return True\n",
    "        \n",
    "doctest.testmod()"
   ]
  },
  {
   "cell_type": "code",
   "execution_count": 9,
   "metadata": {},
   "outputs": [
    {
     "data": {
      "text/plain": [
       "TestResults(failed=0, attempted=27)"
      ]
     },
     "execution_count": 9,
     "metadata": {},
     "output_type": "execute_result"
    }
   ],
   "source": [
    "# Q8: Hailstone Tree\n",
    "def hailstone_tree(n, h):\n",
    "    \"\"\"Generates a tree of hailstone numbers that will reach N, with height H.\n",
    "    >>> print_tree(hailstone_tree(1, 0))\n",
    "    1\n",
    "    >>> print_tree(hailstone_tree(1, 4))\n",
    "    1\n",
    "        2\n",
    "            4\n",
    "                8\n",
    "                    16\n",
    "    >>> print_tree(hailstone_tree(8, 3))\n",
    "    8\n",
    "        16\n",
    "            32\n",
    "                64\n",
    "            5\n",
    "                10\n",
    "    \"\"\"\n",
    "    if h == 0:\n",
    "        return tree(n, [])\n",
    "    branches = [hailstone_tree(n*2, h-1)]\n",
    "    if (n-1)%3 == 0 and (n-1)//3 != 1 and (n-1)//3 != 0:\n",
    "        branches += [hailstone_tree((n-1)//3, h-1)]\n",
    "    return tree(n, branches)\n",
    "\n",
    "def print_tree(t):\n",
    "    def helper(i, t):\n",
    "        print(\"    \" * i + str(label(t)))\n",
    "        for b in branches(t):\n",
    "            helper(i + 1, b)\n",
    "    helper(0, t)\n",
    "\n",
    "doctest.testmod()"
   ]
  }
 ],
 "metadata": {
  "kernelspec": {
   "display_name": "Python 3.10.4 64-bit",
   "language": "python",
   "name": "python3"
  },
  "language_info": {
   "codemirror_mode": {
    "name": "ipython",
    "version": 3
   },
   "file_extension": ".py",
   "mimetype": "text/x-python",
   "name": "python",
   "nbconvert_exporter": "python",
   "pygments_lexer": "ipython3",
   "version": "3.10.4"
  },
  "orig_nbformat": 4,
  "vscode": {
   "interpreter": {
    "hash": "aee8b7b246df8f9039afb4144a1f6fd8d2ca17a180786b69acc140d282b71a49"
   }
  }
 },
 "nbformat": 4,
 "nbformat_minor": 2
}

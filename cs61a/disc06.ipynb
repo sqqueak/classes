{
 "cells": [
  {
   "cell_type": "code",
   "execution_count": 1,
   "metadata": {},
   "outputs": [],
   "source": [
    "import doctest"
   ]
  },
  {
   "cell_type": "code",
   "execution_count": 8,
   "metadata": {},
   "outputs": [
    {
     "data": {
      "text/plain": [
       "TestResults(failed=0, attempted=5)"
      ]
     },
     "execution_count": 8,
     "metadata": {},
     "output_type": "execute_result"
    }
   ],
   "source": [
    "# Q2: Add This Many\n",
    "def add_this_many(x, el, s):\n",
    "    \"\"\" Adds el to the end of s the number of times x occurs in s.\n",
    "    >>> s = [1, 2, 4, 2, 1]\n",
    "    >>> add_this_many(1, 5, s)\n",
    "    >>> s\n",
    "    [1, 2, 4, 2, 1, 5, 5]\n",
    "    >>> add_this_many(2, 2, s)\n",
    "    >>> s\n",
    "    [1, 2, 4, 2, 1, 5, 5, 2, 2]\n",
    "    \"\"\"\n",
    "    num = len([item for item in s if item == x])\n",
    "    return s.extend([el]*num)\n",
    "\n",
    "doctest.testmod()"
   ]
  },
  {
   "cell_type": "code",
   "execution_count": 9,
   "metadata": {},
   "outputs": [
    {
     "data": {
      "text/plain": [
       "TestResults(failed=0, attempted=13)"
      ]
     },
     "execution_count": 9,
     "metadata": {},
     "output_type": "execute_result"
    }
   ],
   "source": [
    "# Q4: Filter-Iter\n",
    "def filter_iter(iterable, fn):\n",
    "    \"\"\"\n",
    "    >>> is_even = lambda x: x % 2 == 0\n",
    "    >>> list(filter_iter(range(5), is_even)) # a list of the values yielded from the call to filter_iter\n",
    "    [0, 2, 4]\n",
    "    >>> all_odd = (2*y-1 for y in range(5))\n",
    "    >>> list(filter_iter(all_odd, is_even))\n",
    "    []\n",
    "    >>> naturals = (n for n in range(1, 100))\n",
    "    >>> s = filter_iter(naturals, is_even)\n",
    "    >>> next(s)\n",
    "    2\n",
    "    >>> next(s)\n",
    "    4\n",
    "    \"\"\"\n",
    "    for item in iterable:\n",
    "        if fn(item):\n",
    "            yield item\n",
    "    \n",
    "doctest.testmod()"
   ]
  },
  {
   "cell_type": "code",
   "execution_count": 18,
   "metadata": {},
   "outputs": [
    {
     "data": {
      "text/plain": [
       "TestResults(failed=0, attempted=18)"
      ]
     },
     "execution_count": 18,
     "metadata": {},
     "output_type": "execute_result"
    }
   ],
   "source": [
    "# Q5: Merge\n",
    "def merge(a, b):\n",
    "    \"\"\"\n",
    "    >>> def sequence(start, step):\n",
    "    ...     while True:\n",
    "    ...         yield start\n",
    "    ...         start += step\n",
    "    >>> a = sequence(2, 3) # 2, 5, 8, 11, 14, ...\n",
    "    >>> b = sequence(3, 2) # 3, 5, 7, 9, 11, 13, 15, ...\n",
    "    >>> result = merge(a, b) # 2, 3, 5, 7, 8, 9, 11, 13, 14, 15\n",
    "    >>> [next(result) for _ in range(10)]\n",
    "    [2, 3, 5, 7, 8, 9, 11, 13, 14, 15]\n",
    "    \"\"\"\n",
    "    fin = []\n",
    "    currentA = next(a)\n",
    "    currentB = next(b)\n",
    "    try:\n",
    "        while True:\n",
    "            while currentA < currentB and currentA not in fin:\n",
    "                yield currentA\n",
    "                fin.append(currentA)\n",
    "                currentA = next(a)\n",
    "            while currentB < currentA and currentB not in fin:\n",
    "                yield currentB\n",
    "                fin.append(currentB)\n",
    "                currentB = next(b)\n",
    "            if currentA == currentB:\n",
    "                if currentA not in fin:\n",
    "                    yield currentA\n",
    "                    fin.append(currentA)\n",
    "                currentA = next(a)\n",
    "                currentB = next(b)\n",
    "    except StopIteration:\n",
    "        pass\n",
    "        \n",
    "\n",
    "doctest.testmod()"
   ]
  },
  {
   "cell_type": "code",
   "execution_count": 26,
   "metadata": {},
   "outputs": [
    {
     "data": {
      "text/plain": [
       "TestResults(failed=0, attempted=25)"
      ]
     },
     "execution_count": 26,
     "metadata": {},
     "output_type": "execute_result"
    }
   ],
   "source": [
    "# Q6: Primes Generator\n",
    "def is_prime(n):\n",
    "    \"\"\"Returns True if n is a prime number and False otherwise.\n",
    "    >>> is_prime(2)\n",
    "    True\n",
    "    >>> is_prime(16)\n",
    "    False\n",
    "    >>> is_prime(521)\n",
    "    True\n",
    "    \"\"\"\n",
    "    def helper(i):\n",
    "        if i > (n ** 0.5): # Could replace with i == n\n",
    "            return True\n",
    "        elif n % i == 0:\n",
    "            return False\n",
    "        return helper(i + 1)\n",
    "    return helper(2)\n",
    "\n",
    "def primes_gen(n):\n",
    "    \"\"\"Generates primes in decreasing order.\n",
    "    >>> pg = primes_gen(7)\n",
    "    >>> list(pg)\n",
    "    [7, 5, 3, 2]\n",
    "    \"\"\"\n",
    "    if n == 1:\n",
    "        return\n",
    "    if is_prime(n):\n",
    "        yield n\n",
    "    yield from primes_gen(n-1)\n",
    "\n",
    "# yielding in ascending order\n",
    "def primes_gen_asc(n):\n",
    "    \"\"\"Generates primes in decreasing order.\n",
    "    >>> pg = primes_gen_asc(7)\n",
    "    >>> list(pg)\n",
    "    [2, 3, 5, 7]\n",
    "    \"\"\"\n",
    "    if n == 1:\n",
    "        return\n",
    "    yield from primes_gen_asc(n-1)\n",
    "    if is_prime(n):\n",
    "        yield n\n",
    "    \n",
    "doctest.testmod()"
   ]
  },
  {
   "cell_type": "code",
   "execution_count": null,
   "metadata": {},
   "outputs": [],
   "source": [
    "# idk\n",
    "\n",
    "# def mystery(p, q):\n",
    "#     p[1].extend(___________________________)\n",
    "#     ___________________________.append(____________________[1:])\n",
    "\n",
    "# p = [2, 3]\n",
    "# q = [4, [p]]\n",
    "# mystery(_________________, ________________________)"
   ]
  }
 ],
 "metadata": {
  "kernelspec": {
   "display_name": "Python 3.10.4 64-bit",
   "language": "python",
   "name": "python3"
  },
  "language_info": {
   "codemirror_mode": {
    "name": "ipython",
    "version": 3
   },
   "file_extension": ".py",
   "mimetype": "text/x-python",
   "name": "python",
   "nbconvert_exporter": "python",
   "pygments_lexer": "ipython3",
   "version": "3.10.4"
  },
  "orig_nbformat": 4,
  "vscode": {
   "interpreter": {
    "hash": "aee8b7b246df8f9039afb4144a1f6fd8d2ca17a180786b69acc140d282b71a49"
   }
  }
 },
 "nbformat": 4,
 "nbformat_minor": 2
}

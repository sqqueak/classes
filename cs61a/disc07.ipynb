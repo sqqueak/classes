{
 "cells": [
  {
   "cell_type": "code",
   "execution_count": 1,
   "metadata": {},
   "outputs": [],
   "source": [
    "import doctest"
   ]
  },
  {
   "cell_type": "code",
   "execution_count": 2,
   "metadata": {},
   "outputs": [],
   "source": [
    "# Q1: WWPD: Student OOP\n",
    "class Student:\n",
    "\n",
    "    max_slip_days = 3 # this is a class variable\n",
    "\n",
    "    def __init__(self, name, staff):\n",
    "        self.name = name # this is an instance variable\n",
    "        self.understanding = 0\n",
    "        staff.add_student(self)\n",
    "        print(\"Added\", self.name)\n",
    "\n",
    "    def visit_office_hours(self, staff):\n",
    "        staff.assist(self)\n",
    "        print(\"Thanks, \" + staff.name)\n",
    "\n",
    "class Professor:\n",
    "\n",
    "    def __init__(self, name):\n",
    "        self.name = name\n",
    "        self.students = {}\n",
    "\n",
    "    def add_student(self, student):\n",
    "        self.students[student.name] = student\n",
    "\n",
    "    def assist(self, student):\n",
    "        student.understanding += 1\n",
    "\n",
    "    def grant_more_slip_days(self, student, days):\n",
    "        student.max_slip_days = days"
   ]
  },
  {
   "cell_type": "code",
   "execution_count": 3,
   "metadata": {},
   "outputs": [
    {
     "name": "stdout",
     "output_type": "stream",
     "text": [
      "Added Elle\n"
     ]
    }
   ],
   "source": [
    "callahan = Professor(\"Callahan\")\n",
    "elle = Student(\"Elle\", callahan)"
   ]
  },
  {
   "cell_type": "code",
   "execution_count": 4,
   "metadata": {},
   "outputs": [
    {
     "name": "stdout",
     "output_type": "stream",
     "text": [
      "Thanks, Callahan\n"
     ]
    }
   ],
   "source": [
    "elle.visit_office_hours(callahan)"
   ]
  },
  {
   "cell_type": "code",
   "execution_count": 5,
   "metadata": {},
   "outputs": [
    {
     "name": "stdout",
     "output_type": "stream",
     "text": [
      "Thanks, Paulette\n"
     ]
    }
   ],
   "source": [
    "elle.visit_office_hours(Professor(\"Paulette\"))"
   ]
  },
  {
   "cell_type": "code",
   "execution_count": 6,
   "metadata": {},
   "outputs": [
    {
     "data": {
      "text/plain": [
       "2"
      ]
     },
     "execution_count": 6,
     "metadata": {},
     "output_type": "execute_result"
    }
   ],
   "source": [
    "elle.understanding"
   ]
  },
  {
   "cell_type": "code",
   "execution_count": 7,
   "metadata": {},
   "outputs": [
    {
     "data": {
      "text/plain": [
       "['Elle']"
      ]
     },
     "execution_count": 7,
     "metadata": {},
     "output_type": "execute_result"
    }
   ],
   "source": [
    "[name for name in callahan.students]"
   ]
  },
  {
   "cell_type": "code",
   "execution_count": 8,
   "metadata": {},
   "outputs": [
    {
     "name": "stdout",
     "output_type": "stream",
     "text": [
      "Added Vivian\n"
     ]
    }
   ],
   "source": [
    "x = Student(\"Vivian\", Professor(\"Stromwell\")).name"
   ]
  },
  {
   "cell_type": "code",
   "execution_count": 9,
   "metadata": {},
   "outputs": [
    {
     "data": {
      "text/plain": [
       "'Vivian'"
      ]
     },
     "execution_count": 9,
     "metadata": {},
     "output_type": "execute_result"
    }
   ],
   "source": [
    "x"
   ]
  },
  {
   "cell_type": "code",
   "execution_count": 10,
   "metadata": {},
   "outputs": [
    {
     "data": {
      "text/plain": [
       "['Elle']"
      ]
     },
     "execution_count": 10,
     "metadata": {},
     "output_type": "execute_result"
    }
   ],
   "source": [
    "[name for name in callahan.students]"
   ]
  },
  {
   "cell_type": "code",
   "execution_count": 11,
   "metadata": {},
   "outputs": [
    {
     "data": {
      "text/plain": [
       "3"
      ]
     },
     "execution_count": 11,
     "metadata": {},
     "output_type": "execute_result"
    }
   ],
   "source": [
    "elle.max_slip_days"
   ]
  },
  {
   "cell_type": "code",
   "execution_count": 12,
   "metadata": {},
   "outputs": [
    {
     "data": {
      "text/plain": [
       "7"
      ]
     },
     "execution_count": 12,
     "metadata": {},
     "output_type": "execute_result"
    }
   ],
   "source": [
    "callahan.grant_more_slip_days(elle, 7)\n",
    "elle.max_slip_days"
   ]
  },
  {
   "cell_type": "code",
   "execution_count": 13,
   "metadata": {},
   "outputs": [
    {
     "data": {
      "text/plain": [
       "3"
      ]
     },
     "execution_count": 13,
     "metadata": {},
     "output_type": "execute_result"
    }
   ],
   "source": [
    "Student.max_slip_days"
   ]
  },
  {
   "cell_type": "code",
   "execution_count": 14,
   "metadata": {},
   "outputs": [
    {
     "data": {
      "text/plain": [
       "TestResults(failed=0, attempted=10)"
      ]
     },
     "execution_count": 14,
     "metadata": {},
     "output_type": "execute_result"
    }
   ],
   "source": [
    "# Q2: Keyboard\n",
    "class Button:\n",
    "    def __init__(self, pos, key):\n",
    "        self.pos = pos\n",
    "        self.key = key\n",
    "        self.times_pressed = 0\n",
    "\n",
    "class Keyboard:\n",
    "    \"\"\"A Keyboard takes in an arbitrary amount of buttons, and has a\n",
    "    dictionary of positions as keys, and values as Buttons.\n",
    "    >>> b1 = Button(0, \"H\")\n",
    "    >>> b2 = Button(1, \"I\")\n",
    "    >>> k = Keyboard(b1, b2)\n",
    "    >>> k.buttons[0].key\n",
    "    'H'\n",
    "    >>> k.press(1)\n",
    "    'I'\n",
    "    >>> k.press(2) # No button at this position\n",
    "    ''\n",
    "    >>> k.typing([0, 1])\n",
    "    'HI'\n",
    "    >>> k.typing([1, 0])\n",
    "    'IH'\n",
    "    >>> b1.times_pressed\n",
    "    2\n",
    "    >>> b2.times_pressed\n",
    "    3\n",
    "    \"\"\"\n",
    "    def __init__(self, *args):\n",
    "        self.buttons = []\n",
    "        for button in args:\n",
    "            self.buttons.append(button)\n",
    "\n",
    "    def press(self, info):\n",
    "        \"\"\"Takes in a position of the button pressed, and\n",
    "        returns that button's output.\"\"\"\n",
    "        if info in [s.pos for s in self.buttons]:\n",
    "            button = [s for s in self.buttons if s.pos == info][0]\n",
    "            button.times_pressed += 1\n",
    "            return button.key\n",
    "        return ''\n",
    "\n",
    "    def typing(self, typing_input):\n",
    "        \"\"\"Takes in a list of positions of buttons pressed, and\n",
    "        returns the total output.\"\"\"\n",
    "        res = \"\"\n",
    "        for pos in typing_input:\n",
    "            res += self.press(pos)\n",
    "        return res\n",
    "\n",
    "doctest.testmod()"
   ]
  },
  {
   "cell_type": "code",
   "execution_count": 15,
   "metadata": {},
   "outputs": [],
   "source": [
    "class Pet:\n",
    "\n",
    "    def __init__(self, name, owner):\n",
    "        self.is_alive = True    # It's alive!!!\n",
    "        self.name = name\n",
    "        self.owner = owner\n",
    "\n",
    "    def eat(self, thing):\n",
    "        print(self.name + \" ate a \" + str(thing) + \"!\")\n",
    "\n",
    "    def talk(self):\n",
    "        print(self.name)\n",
    "\n",
    "class Dog(Pet):\n",
    "\n",
    "    def talk(self):\n",
    "        super().talk()\n",
    "        print('This Dog says woof!')"
   ]
  },
  {
   "cell_type": "code",
   "execution_count": 16,
   "metadata": {},
   "outputs": [
    {
     "data": {
      "text/plain": [
       "TestResults(failed=0, attempted=11)"
      ]
     },
     "execution_count": 16,
     "metadata": {},
     "output_type": "execute_result"
    }
   ],
   "source": [
    "# Q3: Cat\n",
    "class Cat(Pet):\n",
    "    def __init__(self, name, owner, lives=9):\n",
    "        self.name = name\n",
    "        self.owner = owner\n",
    "        self.lives = lives\n",
    "        self.is_alive = True\n",
    "\n",
    "    def talk(self):\n",
    "        \"\"\"Print out a cat's greeting.\n",
    "\n",
    "        >>> Cat('Thomas', 'Tammy').talk()\n",
    "        Thomas says meow!\n",
    "        \"\"\"\n",
    "        print(self.name, \"says meow!\")\n",
    "\n",
    "    def lose_life(self):\n",
    "        \"\"\"Decrements a cat's life by 1. When lives reaches zero,\n",
    "        is_alive becomes False. If this is called after lives has\n",
    "        reached zero, print 'This cat has no more lives to lose.'\n",
    "        \"\"\"\n",
    "        self.lives -= 1\n",
    "        if self.lives <= 0:\n",
    "            self.is_alive = False\n",
    "            print(\"This cat has no more lives to lose.\")\n",
    "\n",
    "doctest.testmod()\n"
   ]
  },
  {
   "cell_type": "code",
   "execution_count": 17,
   "metadata": {},
   "outputs": [
    {
     "data": {
      "text/plain": [
       "TestResults(failed=0, attempted=12)"
      ]
     },
     "execution_count": 17,
     "metadata": {},
     "output_type": "execute_result"
    }
   ],
   "source": [
    "# Q4: NoisyCat\n",
    "class NoisyCat(Cat): # Fill me in!\n",
    "    \"\"\"A Cat that repeats things twice.\"\"\"\n",
    "    def __init__(self, name, owner, lives=9):\n",
    "        # Is this method necessary? Why or why not?\n",
    "        Cat.__init__(self, name, owner, lives)\n",
    "\n",
    "    def talk(self):\n",
    "        \"\"\"Talks twice as much as a regular cat.\n",
    "        >>> NoisyCat('Magic', 'James').talk()\n",
    "        Magic says meow!\n",
    "        Magic says meow!\n",
    "        \"\"\"\n",
    "        Cat.talk(self)\n",
    "        Cat.talk(self)\n",
    "\n",
    "doctest.testmod()"
   ]
  },
  {
   "cell_type": "code",
   "execution_count": 18,
   "metadata": {},
   "outputs": [
    {
     "data": {
      "text/plain": [
       "TestResults(failed=0, attempted=15)"
      ]
     },
     "execution_count": 18,
     "metadata": {},
     "output_type": "execute_result"
    }
   ],
   "source": [
    "# Q6: Cat Adoption\n",
    "\n",
    "import random as random\n",
    "\n",
    "class Cat(Pet):\n",
    "    def __init__(self, name, owner, lives=9):\n",
    "        self.name = name\n",
    "        self.owner = owner\n",
    "        self.lives = lives\n",
    "        self.is_alive = True\n",
    "\n",
    "    def talk(self):\n",
    "        \"\"\"Print out a cat's greeting.\n",
    "\n",
    "        >>> Cat('Thomas', 'Tammy').talk()\n",
    "        Thomas says meow!\n",
    "        \"\"\"\n",
    "        print(self.name, \"says meow!\")\n",
    "\n",
    "    def lose_life(self):\n",
    "        \"\"\"Decrements a cat's life by 1. When lives reaches zero,\n",
    "        is_alive becomes False. If this is called after lives has\n",
    "        reached zero, print 'This cat has no more lives to lose.'\n",
    "        \"\"\"\n",
    "        self.lives -= 1\n",
    "        if self.lives <= 0:\n",
    "            self.is_alive = False\n",
    "            print(\"This cat has no more lives to lose.\")\n",
    "\n",
    "    @classmethod\n",
    "    def adopt_random_cat(cls, owner):\n",
    "        \"\"\"\n",
    "        Returns a new instance of a Cat with the given owner,\n",
    "        a randomly chosen name and a random number of lives.\n",
    "        >>> randcat = Cat.adopt_random_cat(\"Ifeoma\")\n",
    "        >>> isinstance(randcat, Cat)\n",
    "        True\n",
    "        >>> randcat.owner\n",
    "        'Ifeoma'\n",
    "        \"\"\"\n",
    "        rand_name = random.choice\n",
    "        rand_lives = random.randint\n",
    "        return cls(rand_name, owner, rand_lives)\n",
    "\n",
    "doctest.testmod()"
   ]
  },
  {
   "cell_type": "code",
   "execution_count": 19,
   "metadata": {},
   "outputs": [],
   "source": [
    "# Q6: WWPD: Repr-ensentation\n",
    "class A:\n",
    "    def __init__(self, x):\n",
    "        self.x = x\n",
    "\n",
    "    def __repr__(self):\n",
    "        return self.x\n",
    "\n",
    "    def __str__(self):\n",
    "        return self.x * 2\n",
    "\n",
    "class B:\n",
    "    def __init__(self):\n",
    "        print('boo!')\n",
    "        self.a = []\n",
    "\n",
    "    def add_a(self, a):\n",
    "        self.a.append(a)\n",
    "\n",
    "    def __repr__(self):\n",
    "        print(len(self.a))\n",
    "        ret = ''\n",
    "        for a in self.a:\n",
    "            ret += str(a)\n",
    "        return ret"
   ]
  },
  {
   "cell_type": "code",
   "execution_count": 20,
   "metadata": {},
   "outputs": [
    {
     "data": {
      "text/plain": [
       "one"
      ]
     },
     "execution_count": 20,
     "metadata": {},
     "output_type": "execute_result"
    }
   ],
   "source": [
    "A(\"one\") # calls __repr__"
   ]
  },
  {
   "cell_type": "code",
   "execution_count": 21,
   "metadata": {},
   "outputs": [
    {
     "name": "stdout",
     "output_type": "stream",
     "text": [
      "oneone\n"
     ]
    }
   ],
   "source": [
    "print(A(\"one\")) # calls __str__"
   ]
  },
  {
   "cell_type": "code",
   "execution_count": 22,
   "metadata": {},
   "outputs": [
    {
     "data": {
      "text/plain": [
       "'two'"
      ]
     },
     "execution_count": 22,
     "metadata": {},
     "output_type": "execute_result"
    }
   ],
   "source": [
    "repr(A(\"two\")) # calls repr(__repr__)?"
   ]
  },
  {
   "cell_type": "code",
   "execution_count": 23,
   "metadata": {},
   "outputs": [
    {
     "name": "stdout",
     "output_type": "stream",
     "text": [
      "boo!\n"
     ]
    }
   ],
   "source": [
    "b = B()"
   ]
  },
  {
   "cell_type": "code",
   "execution_count": 24,
   "metadata": {},
   "outputs": [
    {
     "name": "stdout",
     "output_type": "stream",
     "text": [
      "2\n"
     ]
    },
    {
     "data": {
      "text/plain": [
       "aabb"
      ]
     },
     "execution_count": 24,
     "metadata": {},
     "output_type": "execute_result"
    }
   ],
   "source": [
    "b.add_a(A(\"a\"))\n",
    "b.add_a(A(\"b\"))\n",
    "b"
   ]
  }
 ],
 "metadata": {
  "kernelspec": {
   "display_name": "Python 3.10.4 64-bit",
   "language": "python",
   "name": "python3"
  },
  "language_info": {
   "codemirror_mode": {
    "name": "ipython",
    "version": 3
   },
   "file_extension": ".py",
   "mimetype": "text/x-python",
   "name": "python",
   "nbconvert_exporter": "python",
   "pygments_lexer": "ipython3",
   "version": "3.10.4"
  },
  "orig_nbformat": 4,
  "vscode": {
   "interpreter": {
    "hash": "aee8b7b246df8f9039afb4144a1f6fd8d2ca17a180786b69acc140d282b71a49"
   }
  }
 },
 "nbformat": 4,
 "nbformat_minor": 2
}
